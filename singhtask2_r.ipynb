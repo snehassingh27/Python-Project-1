{
  "nbformat": 4,
  "nbformat_minor": 0,
  "metadata": {
    "colab": {
      "provenance": [],
      "authorship_tag": "ABX9TyNnUIrl6rZFn8s9YRWtDa9e",
      "include_colab_link": true
    },
    "kernelspec": {
      "name": "ir",
      "display_name": "R"
    },
    "language_info": {
      "name": "R"
    }
  },
  "cells": [
    {
      "cell_type": "markdown",
      "metadata": {
        "id": "view-in-github",
        "colab_type": "text"
      },
      "source": [
        "<a href=\"https://colab.research.google.com/github/snehassingh27/Python-Project-1/blob/main/singhtask2_r.ipynb\" target=\"_parent\"><img src=\"https://colab.research.google.com/assets/colab-badge.svg\" alt=\"Open In Colab\"/></a>"
      ]
    },
    {
      "cell_type": "code",
      "execution_count": 1,
      "metadata": {
        "colab": {
          "base_uri": "https://localhost:8080/"
        },
        "id": "lfg6naaKRr-S",
        "outputId": "64681f35-5bff-41ce-c2c1-ad4e6ec6357a"
      },
      "outputs": [
        {
          "output_type": "stream",
          "name": "stderr",
          "text": [
            "Installing package into ‘/usr/local/lib/R/site-library’\n",
            "(as ‘lib’ is unspecified)\n",
            "\n"
          ]
        }
      ],
      "source": [
        "# Load necessary libraries\n",
        "install.packages(\"tidyverse\")"
      ]
    },
    {
      "cell_type": "code",
      "source": [
        "# Load necessary libraries\n",
        "library(tidyverse)"
      ],
      "metadata": {
        "id": "yJJ8mesLSUZ9"
      },
      "execution_count": 4,
      "outputs": []
    },
    {
      "cell_type": "code",
      "source": [
        "# Function to read data with error handling\n",
        "read_data <- function(file_path) {\n",
        "  tryCatch(\n",
        "    {\n",
        "      data <- read_csv(file_path)\n",
        "      return(data)\n",
        "    },\n",
        "    error = function(e) {\n",
        "      cat(\"Error: Unable to read the data file. Please check the file path and format.\\n\")\n",
        "      return(NULL)\n",
        "    }\n",
        "  )\n",
        "}\n"
      ],
      "metadata": {
        "id": "Iy3cD6ndSyS5"
      },
      "execution_count": 5,
      "outputs": []
    },
    {
      "cell_type": "code",
      "source": [
        "# Task 11: Read the data set baseball.csv\n",
        "baseball <- read_data(\"baseball.csv\")\n",
        "if (is.null(baseball)) stop(\"Exiting script due to data load failure.\")"
      ],
      "metadata": {
        "colab": {
          "base_uri": "https://localhost:8080/"
        },
        "id": "wT4NlNK0SzSf",
        "outputId": "e5479dde-f2cc-45a6-ce30-d982c6989016"
      },
      "execution_count": 6,
      "outputs": [
        {
          "output_type": "stream",
          "name": "stderr",
          "text": [
            "\u001b[1mRows: \u001b[22m\u001b[34m771\u001b[39m \u001b[1mColumns: \u001b[22m\u001b[34m16\u001b[39m\n",
            "\u001b[36m──\u001b[39m \u001b[1mColumn specification\u001b[22m \u001b[36m────────────────────────────────────────────────────────\u001b[39m\n",
            "\u001b[1mDelimiter:\u001b[22m \",\"\n",
            "\u001b[31mchr\u001b[39m  (2): Last, First\n",
            "\u001b[32mdbl\u001b[39m (14): Age, G, PA, AB, R, H, 2B, 3B, HR, RBI, SB, CS, BB, SO\n",
            "\n",
            "\u001b[36mℹ\u001b[39m Use `spec()` to retrieve the full column specification for this data.\n",
            "\u001b[36mℹ\u001b[39m Specify the column types or set `show_col_types = FALSE` to quiet this message.\n"
          ]
        }
      ]
    },
    {
      "cell_type": "code",
      "source": [
        "# Task 12: Explore the data\n",
        "if (exists(\"baseball\")) glimpse(baseball)"
      ],
      "metadata": {
        "colab": {
          "base_uri": "https://localhost:8080/"
        },
        "id": "ah37sJVHS3QE",
        "outputId": "753b9358-fdc0-4adb-b1a1-16e52ab00ab3"
      },
      "execution_count": 7,
      "outputs": [
        {
          "output_type": "stream",
          "name": "stdout",
          "text": [
            "Rows: 771\n",
            "Columns: 16\n",
            "$ Last  \u001b[3m\u001b[90m<chr>\u001b[39m\u001b[23m \"Acker\", \"Adduci\", \"Aguayo\", \"Aguilera\", \"Akerfelds\", \"Aldrete\",…\n",
            "$ First \u001b[3m\u001b[90m<chr>\u001b[39m\u001b[23m \"Jim\", \"Jim\", \"Luis\", \"Rick\", \"Darrel\", \"Mike\", \"Doyle\", \"Andy\",…\n",
            "$ Age   \u001b[3m\u001b[90m<dbl>\u001b[39m\u001b[23m 27, 26, 27, 24, 24, 25, 35, 24, 33, 27, 33, 25, 29, 22, 32, 23, …\n",
            "$ G     \u001b[3m\u001b[90m<dbl>\u001b[39m\u001b[23m 21, 3, 62, 32, 1, 84, 18, 101, 102, 8, 48, 92, 15, 1, 121, 15, 1…\n",
            "$ PA    \u001b[3m\u001b[90m<dbl>\u001b[39m\u001b[23m 28, 13, 146, 57, 0, 256, 45, 324, 230, 11, 7, 241, 12, 0, 453, 6…\n",
            "$ AB    \u001b[3m\u001b[90m<dbl>\u001b[39m\u001b[23m 28, 11, 133, 51, 0, 216, 38, 293, 196, 11, 6, 216, 11, 0, 425, 5…\n",
            "$ R     \u001b[3m\u001b[90m<dbl>\u001b[39m\u001b[23m 1, 2, 17, 4, 0, 27, 2, 30, 29, 0, 0, 31, 1, 0, 40, 9, 24, 0, 0, …\n",
            "$ H     \u001b[3m\u001b[90m<dbl>\u001b[39m\u001b[23m 3, 1, 28, 8, 0, 54, 8, 66, 43, 1, 0, 53, 1, 0, 112, 20, 81, 0, 0…\n",
            "$ `2B`  \u001b[3m\u001b[90m<dbl>\u001b[39m\u001b[23m 1, 1, 6, 0, 0, 18, 1, 7, 7, 0, 0, 9, 0, 0, 21, 5, 15, 0, 0, 18, …\n",
            "$ `3B`  \u001b[3m\u001b[90m<dbl>\u001b[39m\u001b[23m 0, 0, 1, 0, 0, 3, 0, 3, 2, 0, 0, 0, 0, 0, 4, 0, 0, 0, 0, 2, 0, 0…\n",
            "$ HR    \u001b[3m\u001b[90m<dbl>\u001b[39m\u001b[23m 0, 0, 4, 2, 0, 2, 0, 1, 7, 0, 0, 1, 0, 0, 11, 0, 7, 0, 0, 1, 0, …\n",
            "$ RBI   \u001b[3m\u001b[90m<dbl>\u001b[39m\u001b[23m 0, 0, 13, 6, 0, 25, 5, 29, 27, 0, 0, 15, 0, 0, 58, 7, 38, 0, 0, …\n",
            "$ SB    \u001b[3m\u001b[90m<dbl>\u001b[39m\u001b[23m 0, 0, 1, 0, 0, 1, 0, 10, 11, 0, 0, 5, 0, 0, 0, 1, 1, 0, 0, 13, 0…\n",
            "$ CS    \u001b[3m\u001b[90m<dbl>\u001b[39m\u001b[23m 0, 0, 1, 0, 0, 3, 0, 1, 4, 0, 0, 1, 0, 0, 3, 2, 0, 0, 0, 7, 0, 1…\n",
            "$ BB    \u001b[3m\u001b[90m<dbl>\u001b[39m\u001b[23m 0, 1, 8, 3, 0, 33, 0, 14, 30, 0, 0, 22, 0, 0, 24, 3, 39, 2, 0, 3…\n",
            "$ SO    \u001b[3m\u001b[90m<dbl>\u001b[39m\u001b[23m 21, 2, 26, 12, 0, 34, 8, 36, 38, 4, 3, 39, 4, 0, 77, 13, 56, 3, …\n"
          ]
        }
      ]
    },
    {
      "cell_type": "code",
      "source": [
        "# Task 13: Filter out players with 0 at bats and store back into baseball\n",
        "baseball <- tryCatch(\n",
        "  {\n",
        "    baseball %>% filter(AB > 0)\n",
        "  },\n",
        "  error = function(e) {\n",
        "    cat(\"Error: Could not filter players with AB > 0. Please check the data.\\n\")\n",
        "    return(NULL)\n",
        "  }\n",
        ")\n",
        "if (is.null(baseball)) stop(\"Exiting script due to data filtering failure.\")"
      ],
      "metadata": {
        "id": "laQdeU_7S7IT"
      },
      "execution_count": 8,
      "outputs": []
    },
    {
      "cell_type": "code",
      "source": [
        "# Task 14: Add a new column for batting average (BA)\n",
        "baseball <- tryCatch(\n",
        "  {\n",
        "    baseball %>% mutate(BA = H / AB)\n",
        "  },\n",
        "  error = function(e) {\n",
        "    cat(\"Error: Could not calculate BA. Please check the data.\\n\")\n",
        "    return(NULL)\n",
        "  }\n",
        ")"
      ],
      "metadata": {
        "id": "0X2Xzt10S-dv"
      },
      "execution_count": 9,
      "outputs": []
    },
    {
      "cell_type": "code",
      "source": [
        "# Task 15: Calculate the mean batting average (mean_BA)\n",
        "mean_BA <- tryCatch(\n",
        "  {\n",
        "    mean(baseball$BA, na.rm = TRUE)\n",
        "  },\n",
        "  error = function(e) {\n",
        "    cat(\"Error: Could not calculate mean BA. Please check the data.\\n\")\n",
        "    return(NA)\n",
        "  }\n",
        ")\n"
      ],
      "metadata": {
        "id": "pDB9w1MCTDJs"
      },
      "execution_count": 10,
      "outputs": []
    },
    {
      "cell_type": "code",
      "source": [
        "# Task 16: Filter players with a batting average greater than or equal to the mean and store as great_players_df\n",
        "great_players_df <- tryCatch(\n",
        "  {\n",
        "    baseball %>% filter(BA >= mean_BA)\n",
        "  },\n",
        "  error = function(e) {\n",
        "    cat(\"Error: Could not filter players with BA >= mean_BA. Please check the data.\\n\")\n",
        "    return(NULL)\n",
        "  }\n",
        ")"
      ],
      "metadata": {
        "id": "lGG-Jv0uTGRR"
      },
      "execution_count": 11,
      "outputs": []
    },
    {
      "cell_type": "code",
      "source": [
        "# Task 17: Create a new column HR_rate\n",
        "baseball <- tryCatch(\n",
        "  {\n",
        "    baseball %>% mutate(HR_rate = HR / AB)\n",
        "  },\n",
        "  error = function(e) {\n",
        "    cat(\"Error: Could not calculate HR_rate. Please check the data.\\n\")\n",
        "    return(NULL)\n",
        "  }\n",
        ")"
      ],
      "metadata": {
        "id": "5utnu3iiTKMR"
      },
      "execution_count": 12,
      "outputs": []
    },
    {
      "cell_type": "code",
      "source": [
        "# Task 18: Sort the data set by HR_rate in descending order and store as high_HRrate_df\n",
        "high_HRrate_df <- tryCatch(\n",
        "  {\n",
        "    baseball %>% arrange(desc(HR_rate))\n",
        "  },\n",
        "  error = function(e) {\n",
        "    cat(\"Error: Could not sort data by HR_rate. Please check the data.\\n\")\n",
        "    return(NULL)\n",
        "  }\n",
        ")\n"
      ],
      "metadata": {
        "id": "yO7I-maOTOB2"
      },
      "execution_count": 13,
      "outputs": []
    },
    {
      "cell_type": "code",
      "source": [
        "# Task 19: Calculate mean HR rate and filter players with HR_rate above mean, store as great_HR_players_df\n",
        "mean_HR_rate <- tryCatch(\n",
        "  {\n",
        "    mean(baseball$HR_rate, na.rm = TRUE)\n",
        "  },\n",
        "  error = function(e) {\n",
        "    cat(\"Error: Could not calculate mean HR_rate. Please check the data.\\n\")\n",
        "    return(NA)\n",
        "  }\n",
        ")\n",
        "\n",
        "great_HR_players_df <- tryCatch(\n",
        "  {\n",
        "    baseball %>% filter(HR_rate > mean_HR_rate)\n",
        "  },\n",
        "  error = function(e) {\n",
        "    cat(\"Error: Could not filter players with HR_rate > mean_HR_rate. Please check the data.\\n\")\n",
        "    return(NULL)\n",
        "  }\n",
        ")"
      ],
      "metadata": {
        "id": "dynnpU8aTRvS"
      },
      "execution_count": 15,
      "outputs": []
    },
    {
      "cell_type": "code",
      "source": [],
      "metadata": {
        "id": "l-_dcKNmTWUI"
      },
      "execution_count": null,
      "outputs": []
    }
  ]
}